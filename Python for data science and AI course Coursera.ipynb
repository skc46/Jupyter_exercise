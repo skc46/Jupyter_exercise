{
    "cells": [
        {
            "metadata": {
                "collapsed": true
            },
            "cell_type": "markdown",
            "source": "# Data Types in Python"
        },
        {
            "metadata": {},
            "cell_type": "code",
            "source": "x = 1\nprint(type(x))",
            "execution_count": 2,
            "outputs": [
                {
                    "output_type": "stream",
                    "text": "<class 'int'>\n",
                    "name": "stdout"
                }
            ]
        },
        {
            "metadata": {},
            "cell_type": "code",
            "source": "x = 1.0\nprint(type(x))",
            "execution_count": 3,
            "outputs": [
                {
                    "output_type": "stream",
                    "text": "<class 'float'>\n",
                    "name": "stdout"
                }
            ]
        },
        {
            "metadata": {},
            "cell_type": "code",
            "source": "x = '1'\nprint(type(x))",
            "execution_count": 4,
            "outputs": [
                {
                    "output_type": "stream",
                    "text": "<class 'str'>\n",
                    "name": "stdout"
                }
            ]
        },
        {
            "metadata": {},
            "cell_type": "code",
            "source": "x = True\nprint(type(x))",
            "execution_count": 5,
            "outputs": [
                {
                    "output_type": "stream",
                    "text": "<class 'bool'>\n",
                    "name": "stdout"
                }
            ]
        },
        {
            "metadata": {},
            "cell_type": "markdown",
            "source": "### Type casting (conversion between data types)"
        },
        {
            "metadata": {},
            "cell_type": "code",
            "source": "x = int(1.0)\nprint(type(x))\n",
            "execution_count": 6,
            "outputs": [
                {
                    "output_type": "stream",
                    "text": "<class 'int'>\n",
                    "name": "stdout"
                }
            ]
        },
        {
            "metadata": {},
            "cell_type": "code",
            "source": "x = int(True)\nprint(type(x))",
            "execution_count": 7,
            "outputs": [
                {
                    "output_type": "stream",
                    "text": "<class 'int'>\n",
                    "name": "stdout"
                }
            ]
        },
        {
            "metadata": {},
            "cell_type": "markdown",
            "source": "# Expressions and Variables"
        },
        {
            "metadata": {},
            "cell_type": "code",
            "source": "# using / we get float result\nx = 5\nprint(x/2)",
            "execution_count": 8,
            "outputs": [
                {
                    "output_type": "stream",
                    "text": "2.5\n",
                    "name": "stdout"
                }
            ]
        },
        {
            "metadata": {},
            "cell_type": "code",
            "source": "# using // we get integer output\nx = 5\nprint(x//2)",
            "execution_count": 9,
            "outputs": [
                {
                    "output_type": "stream",
                    "text": "2\n",
                    "name": "stdout"
                }
            ]
        },
        {
            "metadata": {},
            "cell_type": "code",
            "source": "# check the version of the python\nimport sys\nprint(sys.version)",
            "execution_count": 10,
            "outputs": [
                {
                    "output_type": "stream",
                    "text": "3.6.9 |Anaconda, Inc.| (default, Jul 30 2019, 19:07:31) \n[GCC 7.3.0]\n",
                    "name": "stdout"
                }
            ]
        },
        {
            "metadata": {},
            "cell_type": "markdown",
            "source": "# Strings"
        },
        {
            "metadata": {},
            "cell_type": "code",
            "source": "my_string = \"Shambhu KC\"\nprint(my_string[1])",
            "execution_count": 11,
            "outputs": [
                {
                    "output_type": "stream",
                    "text": "h\n",
                    "name": "stdout"
                }
            ]
        },
        {
            "metadata": {},
            "cell_type": "code",
            "source": "# string slicing\nprint(my_string[0:2])",
            "execution_count": 12,
            "outputs": [
                {
                    "output_type": "stream",
                    "text": "Sh\n",
                    "name": "stdout"
                }
            ]
        },
        {
            "metadata": {},
            "cell_type": "code",
            "source": "# to get every second variable, this is also called stride\nprint(my_string[::2])",
            "execution_count": 13,
            "outputs": [
                {
                    "output_type": "stream",
                    "text": "SabuK\n",
                    "name": "stdout"
                }
            ]
        },
        {
            "metadata": {},
            "cell_type": "code",
            "source": "print(my_string[4::2])",
            "execution_count": 14,
            "outputs": [
                {
                    "output_type": "stream",
                    "text": "buK\n",
                    "name": "stdout"
                }
            ]
        },
        {
            "metadata": {},
            "cell_type": "code",
            "source": "# to get length of a string\nprint(len(my_string))",
            "execution_count": 15,
            "outputs": [
                {
                    "output_type": "stream",
                    "text": "10\n",
                    "name": "stdout"
                }
            ]
        },
        {
            "metadata": {},
            "cell_type": "code",
            "source": "# to replicate strings\nprint(3*my_string)",
            "execution_count": 16,
            "outputs": [
                {
                    "output_type": "stream",
                    "text": "Shambhu KCShambhu KCShambhu KC\n",
                    "name": "stdout"
                }
            ]
        },
        {
            "metadata": {},
            "cell_type": "code",
            "source": "# \\n is used to break line\nprint(\"my name \\n my age \\n and my address\")",
            "execution_count": 17,
            "outputs": [
                {
                    "output_type": "stream",
                    "text": "my name \n my age \n and my address\n",
                    "name": "stdout"
                }
            ]
        },
        {
            "metadata": {},
            "cell_type": "code",
            "source": "# to use backslash in the string use \\\\\nprint(\"my name is \\\\ Shambhu KC\")",
            "execution_count": 18,
            "outputs": [
                {
                    "output_type": "stream",
                    "text": "my name is \\ Shambhu KC\n",
                    "name": "stdout"
                }
            ]
        },
        {
            "metadata": {},
            "cell_type": "code",
            "source": "# \\t can be used to get a tabbing\nprint(\"Name \\t Shambhu KC\")",
            "execution_count": 19,
            "outputs": [
                {
                    "output_type": "stream",
                    "text": "Name \t Shambhu KC\n",
                    "name": "stdout"
                }
            ]
        },
        {
            "metadata": {},
            "cell_type": "markdown",
            "source": "### Strings method"
        },
        {
            "metadata": {},
            "cell_type": "code",
            "source": "#to convert into all upercase\nx = 'hello world'\nprint(x.upper())",
            "execution_count": 21,
            "outputs": [
                {
                    "output_type": "stream",
                    "text": "HELLO WORLD\n",
                    "name": "stdout"
                }
            ]
        },
        {
            "metadata": {},
            "cell_type": "code",
            "source": "# to replace certain word, here we replace world with class\ny = x.replace('world', 'class')\nprint(y)",
            "execution_count": 22,
            "outputs": [
                {
                    "output_type": "stream",
                    "text": "hello class\n",
                    "name": "stdout"
                }
            ]
        },
        {
            "metadata": {},
            "cell_type": "code",
            "source": "# to find the letter in the string, it returns the first index of the letter\nprint(x.find('wor'))",
            "execution_count": 23,
            "outputs": [
                {
                    "output_type": "stream",
                    "text": "6\n",
                    "name": "stdout"
                }
            ]
        },
        {
            "metadata": {},
            "cell_type": "code",
            "source": "print(x[0:2])",
            "execution_count": 24,
            "outputs": [
                {
                    "output_type": "stream",
                    "text": "he\n",
                    "name": "stdout"
                }
            ]
        },
        {
            "metadata": {},
            "cell_type": "markdown",
            "source": "# Tuples \n*tuples are written as comma-seperated elements within parenthesis*"
        },
        {
            "metadata": {},
            "cell_type": "code",
            "source": "tuple1 = (\"book\", 1, 2.5)",
            "execution_count": 27,
            "outputs": []
        },
        {
            "metadata": {},
            "cell_type": "code",
            "source": "print(tuple1[1])",
            "execution_count": 28,
            "outputs": [
                {
                    "output_type": "stream",
                    "text": "1\n",
                    "name": "stdout"
                }
            ]
        },
        {
            "metadata": {},
            "cell_type": "code",
            "source": "# tuples can be added\ntuple2 = (\"sams\", \"walmart\")\nprint(tuple1+tuple2)",
            "execution_count": 30,
            "outputs": [
                {
                    "output_type": "stream",
                    "text": "('book', 1, 2.5, 'sams', 'walmart')\n",
                    "name": "stdout"
                }
            ]
        },
        {
            "metadata": {},
            "cell_type": "code",
            "source": "# slicing of the tuples is similar to the string slicing\nprint(tuple1[0:2])",
            "execution_count": 31,
            "outputs": [
                {
                    "output_type": "stream",
                    "text": "('book', 1)\n",
                    "name": "stdout"
                }
            ]
        },
        {
            "metadata": {},
            "cell_type": "code",
            "source": "# to find index of tuple elements; find the index of 2.5\nprint(tuple1.index(2.5))",
            "execution_count": 62,
            "outputs": [
                {
                    "output_type": "stream",
                    "text": "2\n",
                    "name": "stdout"
                }
            ]
        },
        {
            "metadata": {},
            "cell_type": "markdown",
            "source": "#### Tuple nesting : tuple containing tuple as elements"
        },
        {
            "metadata": {},
            "cell_type": "code",
            "source": "tup1 = (0,1, tuple1, tuple2)\nprint(tup1)",
            "execution_count": 32,
            "outputs": [
                {
                    "output_type": "stream",
                    "text": "(0, 1, ('book', 1, 2.5), ('sams', 'walmart'))\n",
                    "name": "stdout"
                }
            ]
        },
        {
            "metadata": {},
            "cell_type": "code",
            "source": "# let's we want m from sams: use multi-indexing\nprint(tup1[3][0][2])",
            "execution_count": 33,
            "outputs": [
                {
                    "output_type": "stream",
                    "text": "m\n",
                    "name": "stdout"
                }
            ]
        },
        {
            "metadata": {},
            "cell_type": "markdown",
            "source": "# List "
        },
        {
            "metadata": {},
            "cell_type": "code",
            "source": "# by using extend we can add list to the existing list but not as a list \nlis1 = [1,4,5,8,9,10,12]\nlis2 = [\"sams\", \"walmart\"]\nprint(lis1+lis2)",
            "execution_count": 52,
            "outputs": [
                {
                    "output_type": "stream",
                    "text": "[1, 4, 5, 8, 9, 10, 12, 'sams', 'walmart']\n",
                    "name": "stdout"
                }
            ]
        },
        {
            "metadata": {},
            "cell_type": "code",
            "source": "print(lis1.append(lis2))",
            "execution_count": 56,
            "outputs": [
                {
                    "output_type": "stream",
                    "text": "None\n",
                    "name": "stdout"
                }
            ]
        },
        {
            "metadata": {},
            "cell_type": "code",
            "source": "lis1.extend(lis2)\nprint(lis1)",
            "execution_count": 57,
            "outputs": [
                {
                    "output_type": "stream",
                    "text": "[1, 4, 5, 8, 9, 10, 12, ['sams', 'walmart'], 'sams', 'walmart', ['sams', 'walmart'], ['sams', 'walmart'], 'sams', 'walmart']\n",
                    "name": "stdout"
                }
            ]
        },
        {
            "metadata": {},
            "cell_type": "code",
            "source": "# to delete elements from the list, we want to delete 4\ndel lis1[1]\nprint(lis1)",
            "execution_count": 58,
            "outputs": [
                {
                    "output_type": "stream",
                    "text": "[1, 5, 8, 9, 10, 12, ['sams', 'walmart'], 'sams', 'walmart', ['sams', 'walmart'], ['sams', 'walmart'], 'sams', 'walmart']\n",
                    "name": "stdout"
                }
            ]
        },
        {
            "metadata": {},
            "cell_type": "code",
            "source": "# list are mutable\nlis1[0] = \"shambhu\"\nprint(lis1)",
            "execution_count": 59,
            "outputs": [
                {
                    "output_type": "stream",
                    "text": "['shambhu', 5, 8, 9, 10, 12, ['sams', 'walmart'], 'sams', 'walmart', ['sams', 'walmart'], ['sams', 'walmart'], 'sams', 'walmart']\n",
                    "name": "stdout"
                }
            ]
        },
        {
            "metadata": {},
            "cell_type": "code",
            "source": "# a string can be group into a list, if there no any arguments (delimiter), it splits based on space\nstring = \"Hello world , I am shambhu KC\"\nlis = string.split()\nprint(lis)",
            "execution_count": 61,
            "outputs": [
                {
                    "output_type": "stream",
                    "text": "['Hello', 'world', ',', 'I', 'am', 'shambhu', 'KC']\n",
                    "name": "stdout"
                }
            ]
        },
        {
            "metadata": {},
            "cell_type": "code",
            "source": "# clone (clone by value) the list\nlis2 = lis1[:]\nprint(lis2)",
            "execution_count": 73,
            "outputs": [
                {
                    "output_type": "stream",
                    "text": "['pooja', 5, 8, 9, 10, 12, ['sams', 'walmart'], 'sams', 'walmart', ['sams', 'walmart'], ['sams', 'walmart'], 'sams', 'walmart']\n",
                    "name": "stdout"
                }
            ]
        },
        {
            "metadata": {},
            "cell_type": "code",
            "source": "# after cloning if we change the elements of A, it will not change the element of B\nlis1[0] = 'pooja'\nprint(lis1[0])\nprint(lis2[0])",
            "execution_count": 64,
            "outputs": [
                {
                    "output_type": "stream",
                    "text": "pooja\nshambhu\n",
                    "name": "stdout"
                }
            ]
        },
        {
            "metadata": {},
            "cell_type": "markdown",
            "source": "# Dictionaries"
        },
        {
            "metadata": {},
            "cell_type": "code",
            "source": "my_dic = {\"pooja\": \"chhetri\", \"shambhu\":\"KC\", \"Hari\":2000, \"shyam\":[3,4,\"Kandel\"], \"kriti\": (\"preet\", 10)}",
            "execution_count": 65,
            "outputs": []
        },
        {
            "metadata": {},
            "cell_type": "code",
            "source": "# I want to print Kandel\nprint(my_dic[\"shyam\"][2])",
            "execution_count": 67,
            "outputs": [
                {
                    "output_type": "stream",
                    "text": "Kandel\n",
                    "name": "stdout"
                }
            ]
        },
        {
            "metadata": {},
            "cell_type": "code",
            "source": "# I want to add new element\nmy_dic[\"new\"]= \"walmart\"\nprint(my_dic)",
            "execution_count": 68,
            "outputs": [
                {
                    "output_type": "stream",
                    "text": "{'pooja': 'chhetri', 'shambhu': 'KC', 'Hari': 2000, 'shyam': [3, 4, 'Kandel'], 'kriti': ('preet', 10), 'new': 'walmart'}\n",
                    "name": "stdout"
                }
            ]
        },
        {
            "metadata": {},
            "cell_type": "code",
            "source": "# I want to print re from preet\nprint(my_dic[\"kriti\"][0][1:3])",
            "execution_count": 69,
            "outputs": [
                {
                    "output_type": "stream",
                    "text": "re\n",
                    "name": "stdout"
                }
            ]
        },
        {
            "metadata": {},
            "cell_type": "code",
            "source": "# I want get keys of my_dic\nprint(my_dic.keys())",
            "execution_count": 70,
            "outputs": [
                {
                    "output_type": "stream",
                    "text": "dict_keys(['pooja', 'shambhu', 'Hari', 'shyam', 'kriti', 'new'])\n",
                    "name": "stdout"
                }
            ]
        },
        {
            "metadata": {},
            "cell_type": "markdown",
            "source": "# Sets\n* sets are a type of collection\n* unlike lists and tuples they are unordered\n* sets only have unique elements"
        },
        {
            "metadata": {},
            "cell_type": "code",
            "source": "set1 = {'pop', 'rock', 'soul', 'hard rock', 'R&B', 'rock', 'disco'}\nprint(set1)",
            "execution_count": 71,
            "outputs": [
                {
                    "output_type": "stream",
                    "text": "{'soul', 'R&B', 'disco', 'pop', 'hard rock', 'rock'}\n",
                    "name": "stdout"
                }
            ]
        },
        {
            "metadata": {},
            "cell_type": "code",
            "source": "#convert list to set\nlis2 = [1,2,3,3,4,5,22]\nset2 = set(lis2)\nprint(set2)",
            "execution_count": 82,
            "outputs": [
                {
                    "output_type": "stream",
                    "text": "{1, 2, 3, 4, 5, 22}\n",
                    "name": "stdout"
                }
            ]
        },
        {
            "metadata": {},
            "cell_type": "code",
            "source": "#to add elements in set\nset2.add(20)\nprint(set2)",
            "execution_count": 83,
            "outputs": [
                {
                    "output_type": "stream",
                    "text": "{1, 2, 3, 4, 5, 20, 22}\n",
                    "name": "stdout"
                }
            ]
        },
        {
            "metadata": {},
            "cell_type": "code",
            "source": "# to delete elemetns from set\nset2.remove(2)\nprint(set2)",
            "execution_count": 84,
            "outputs": [
                {
                    "output_type": "stream",
                    "text": "{1, 3, 4, 5, 20, 22}\n",
                    "name": "stdout"
                }
            ]
        },
        {
            "metadata": {},
            "cell_type": "code",
            "source": "# to find intersection of two sets\nset3 = {4,5,10,22}\nset4 = set2 & set3\nprint(set4)",
            "execution_count": 86,
            "outputs": [
                {
                    "output_type": "stream",
                    "text": "{4, 5, 22}\n",
                    "name": "stdout"
                }
            ]
        },
        {
            "metadata": {},
            "cell_type": "code",
            "source": "# to find union of two sets\nprint(set2.union(set3))",
            "execution_count": 87,
            "outputs": [
                {
                    "output_type": "stream",
                    "text": "{1, 3, 4, 5, 10, 20, 22}\n",
                    "name": "stdout"
                }
            ]
        },
        {
            "metadata": {},
            "cell_type": "code",
            "source": "# to check if set is subset of other\nprint(set3.issubset(set2))",
            "execution_count": 88,
            "outputs": [
                {
                    "output_type": "stream",
                    "text": "False\n",
                    "name": "stdout"
                }
            ]
        },
        {
            "metadata": {},
            "cell_type": "code",
            "source": "",
            "execution_count": null,
            "outputs": []
        }
    ],
    "metadata": {
        "kernelspec": {
            "name": "python3",
            "display_name": "Python 3.6",
            "language": "python"
        },
        "language_info": {
            "name": "python",
            "version": "3.6.9",
            "mimetype": "text/x-python",
            "codemirror_mode": {
                "name": "ipython",
                "version": 3
            },
            "pygments_lexer": "ipython3",
            "nbconvert_exporter": "python",
            "file_extension": ".py"
        }
    },
    "nbformat": 4,
    "nbformat_minor": 1
}