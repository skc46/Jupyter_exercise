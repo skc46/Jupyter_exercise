{
    "cells": [
        {
            "metadata": {},
            "cell_type": "code",
            "source": "# import the imb_dp python library\nimport ibm_db",
            "execution_count": 2,
            "outputs": []
        },
        {
            "metadata": {},
            "cell_type": "code",
            "source": "# Identify the database connection credentials that you created in the Db2 database\ndsn_hostname = \"dashdb-txn-sbox-yp-dal09-14.services.dal.bluemix.net\"\ndsn_uid = \"ggd09779\"  # your username\ndsn_pwd = \"3nx-1tg8x298whvk\"  # your password\n\ndsn_driver = \"{IBM DB2 ODBC DRIVER}\"\ndsn_database = \"BLUDB\"\ndsn_port = 50000\ndsn_protocol = \"TCPIP\"\n\n",
            "execution_count": 3,
            "outputs": []
        },
        {
            "metadata": {},
            "cell_type": "markdown",
            "source": "# Create the DB2 database connection"
        },
        {
            "metadata": {},
            "cell_type": "code",
            "source": "# DO NOT MODIFY THIS CELL. Just RUN it\n# Create the dsn connection string\ndsn = (\"DRIVER={0};\"\n       \"DATABASE={1};\"\n       \"HOSTNAME={2};\"\n       \"PORT={3};\"\n       \"PROTOCOL={4};\"\n       \"UID={5};\"\n       \"PWD={6};\").format(dsn_driver, dsn_database, dsn_hostname, dsn_port, dsn_protocol, dsn_uid, dsn_pwd)\n# print the connection string to check correct values are specified\nprint(dsn)",
            "execution_count": 4,
            "outputs": [
                {
                    "output_type": "stream",
                    "text": "DRIVER={IBM DB2 ODBC DRIVER};DATABASE=BLUDB;HOSTNAME=dashdb-txn-sbox-yp-dal09-14.services.dal.bluemix.net;PORT=50000;PROTOCOL=TCPIP;UID=ggd09779;PWD=3nx-1tg8x298whvk;\n",
                    "name": "stdout"
                }
            ]
        },
        {
            "metadata": {},
            "cell_type": "markdown",
            "source": "Now establish the connection to the database"
        },
        {
            "metadata": {},
            "cell_type": "code",
            "source": "# create database connection\ntry:\n    conn = ibm_db.connect(dsn, \"\", \"\")\n    print(\"Connected to database: \", dsn_database, \"as user:\", dsn_uid, \"on_host:\", dsn_hostname)\n    \nexcept:\n    print(\"Unable to connect: \", ibm_db.conn_errormsg())",
            "execution_count": 5,
            "outputs": [
                {
                    "output_type": "stream",
                    "text": "Connected to database:  BLUDB as user: ggd09779 on_host: dashdb-txn-sbox-yp-dal09-14.services.dal.bluemix.net\n",
                    "name": "stdout"
                }
            ]
        },
        {
            "metadata": {},
            "cell_type": "code",
            "source": "# Retrieve Metadata for the Database server\nserver = ibm_db.server_info(conn)\n\nprint('DBMS_NAME: ', server.DBMS_NAME)\nprint('DBMS_VER: ', server.DBMS_VER)\nprint('DB_NAME: ', server.DB_NAME)\n",
            "execution_count": 7,
            "outputs": [
                {
                    "output_type": "stream",
                    "text": "DBMS_NAME:  DB2/LINUXX8664\nDBMS_VER:  11.01.0404\nDB_NAME:  BLUDB\n",
                    "name": "stdout"
                }
            ]
        },
        {
            "metadata": {},
            "cell_type": "code",
            "source": "# Retrieve Metadata for the Database Client/Driver\nclient = ibm_db.client_info(conn)\n\nprint('DRIVER_NAME: ', client.DRIVER_NAME)\nprint('DRIVER_VER: ', client.DRIVER_VER)\nprint('DATA_SOURCE_NAME: ', client.DATA_SOURCE_NAME)\nprint('DRIVER_ODBC_VER: ', client.DRIVER_ODBC_VER)\nprint('ODBC_VER: ', client.ODBC_VER)\nprint('ODBC_SQL_CONFORMANCE: ', client.ODBC_SQL_CONFORMANCE)\nprint('APPL_CODEPAGE: ', client.APPL_CODEPAGE)\nprint('CONN_CODEPAGE: ', client.CONN_CODEPAGE)\n",
            "execution_count": 8,
            "outputs": [
                {
                    "output_type": "stream",
                    "text": "DRIVER_NAME:  libdb2.a\nDRIVER_VER:  11.01.0303\nDATA_SOURCE_NAME:  BLUDB\nDRIVER_ODBC_VER:  03.51\nODBC_VER:  03.01.0000\nODBC_SQL_CONFORMANCE:  EXTENDED\nAPPL_CODEPAGE:  1208\nCONN_CODEPAGE:  1208\n",
                    "name": "stdout"
                }
            ]
        },
        {
            "metadata": {},
            "cell_type": "markdown",
            "source": "# We want to create table name INSTRUCTOR"
        },
        {
            "metadata": {},
            "cell_type": "code",
            "source": "# Let's fisrt drop the table name INSTRUCTOR it if exists already\ndropQ = 'DROP TABLE INSTRUCTOR'\ndropSt = ibm_db.exec_immediate(conn, dropQ)",
            "execution_count": 26,
            "outputs": []
        },
        {
            "metadata": {},
            "cell_type": "code",
            "source": "# Let's create a table\ncreateQ = 'CREATE TABLE INSTRUCTOR (ID INTEGER PRIMARY KEY NOT NULL, FNAME VARCHAR(30), LNAME VARCHAR(30), CITY VARCHAR(30), CCODE CHAR(2))'\ncreateSt = ibm_db.exec_immediate(conn, createQ)",
            "execution_count": 27,
            "outputs": []
        },
        {
            "metadata": {},
            "cell_type": "code",
            "source": "# Let's insert data into the table\ninsertQ = \"INSERT INTO INSTRUCTOR (ID,FNAME, LNAME, CITY, CCODE) VALUES(1, 'Rav', 'Ahuja', 'TORONTO','CA')\"\ninsertQ1 = \"INSERT INTO INSTRUCTOR (ID,FNAME, LNAME, CITY, CCODE) VALUES(2, 'Raul', 'Chong', 'Markham','CA')\"\ninsertQ2 = \"INSERT INTO INSTRUCTOR (ID,FNAME, LNAME, CITY, CCODE) VALUES(3, 'Hima', 'Vasudevan', 'Chicago','US')\"\ninsertSt = ibm_db.exec_immediate(conn, insertQ)\ninsertSt1 = ibm_db.exec_immediate(conn, insertQ1)\ninsertSt2 = ibm_db.exec_immediate(conn, insertQ2)",
            "execution_count": 28,
            "outputs": []
        },
        {
            "metadata": {},
            "cell_type": "code",
            "source": "selectQ = 'SELECT * FROM INSTRUCTOR'\nselectSt = ibm_db.exec_immediate(conn, selectQ)\nibm_db.fetch_both(selectSt)  # This fetches first row as a dictionary",
            "execution_count": 30,
            "outputs": [
                {
                    "output_type": "execute_result",
                    "execution_count": 30,
                    "data": {
                        "text/plain": "{'ID': 1,\n 0: 1,\n 'FNAME': 'Rav',\n 1: 'Rav',\n 'LNAME': 'Ahuja',\n 2: 'Ahuja',\n 'CITY': 'TORONTO',\n 3: 'TORONTO',\n 'CCODE': 'CA',\n 4: 'CA'}"
                    },
                    "metadata": {}
                }
            ]
        },
        {
            "metadata": {},
            "cell_type": "code",
            "source": "# to fetch rest of the rows and print the ID and FNAME for those rows\nwhile ibm_db.fetch_row(selectSt) !=False:\n    print(\"ID:\", ibm_db.result(selectSt,0), \"FNAME:\", ibm_db.result(selectSt, \"FNAME\"))",
            "execution_count": 32,
            "outputs": [
                {
                    "output_type": "stream",
                    "text": "ID: 3 FNAME: Hima\n",
                    "name": "stdout"
                }
            ]
        },
        {
            "metadata": {},
            "cell_type": "markdown",
            "source": "# Using pandas makes it easier"
        },
        {
            "metadata": {},
            "cell_type": "code",
            "source": "import pandas as pd\nimport ibm_db_dbi\npconn = ibm_db_dbi.Connection(conn)\n",
            "execution_count": 33,
            "outputs": []
        },
        {
            "metadata": {},
            "cell_type": "code",
            "source": "df = pd.read_sql(selectQ, pconn)\ndf",
            "execution_count": 34,
            "outputs": [
                {
                    "output_type": "execute_result",
                    "execution_count": 34,
                    "data": {
                        "text/plain": "   ID FNAME      LNAME     CITY CCODE\n0   1   Rav      Ahuja  TORONTO    CA\n1   2  Raul      Chong  Markham    CA\n2   3  Hima  Vasudevan  Chicago    US",
                        "text/html": "<div>\n<style scoped>\n    .dataframe tbody tr th:only-of-type {\n        vertical-align: middle;\n    }\n\n    .dataframe tbody tr th {\n        vertical-align: top;\n    }\n\n    .dataframe thead th {\n        text-align: right;\n    }\n</style>\n<table border=\"1\" class=\"dataframe\">\n  <thead>\n    <tr style=\"text-align: right;\">\n      <th></th>\n      <th>ID</th>\n      <th>FNAME</th>\n      <th>LNAME</th>\n      <th>CITY</th>\n      <th>CCODE</th>\n    </tr>\n  </thead>\n  <tbody>\n    <tr>\n      <th>0</th>\n      <td>1</td>\n      <td>Rav</td>\n      <td>Ahuja</td>\n      <td>TORONTO</td>\n      <td>CA</td>\n    </tr>\n    <tr>\n      <th>1</th>\n      <td>2</td>\n      <td>Raul</td>\n      <td>Chong</td>\n      <td>Markham</td>\n      <td>CA</td>\n    </tr>\n    <tr>\n      <th>2</th>\n      <td>3</td>\n      <td>Hima</td>\n      <td>Vasudevan</td>\n      <td>Chicago</td>\n      <td>US</td>\n    </tr>\n  </tbody>\n</table>\n</div>"
                    },
                    "metadata": {}
                }
            ]
        },
        {
            "metadata": {},
            "cell_type": "markdown",
            "source": "#### Accessing databases with SQL Magic\nThis makes easier to store data in the database and analyze it"
        },
        {
            "metadata": {},
            "cell_type": "code",
            "source": "# first install the ipython-sql extension\n!pip install --user ipython-sql\n            ",
            "execution_count": 4,
            "outputs": [
                {
                    "output_type": "stream",
                    "text": "Collecting ipython-sql\n  Downloading https://files.pythonhosted.org/packages/ab/3d/0d38357c620df31cebb056ca1804027112e5c008f4c2c0e16d879996ad9f/ipython_sql-0.4.0-py3-none-any.whl\nCollecting sqlparse (from ipython-sql)\n\u001b[?25l  Downloading https://files.pythonhosted.org/packages/85/ee/6e821932f413a5c4b76be9c5936e313e4fc626b33f16e027866e1d60f588/sqlparse-0.3.1-py2.py3-none-any.whl (40kB)\n\u001b[K     |\u2588\u2588\u2588\u2588\u2588\u2588\u2588\u2588\u2588\u2588\u2588\u2588\u2588\u2588\u2588\u2588\u2588\u2588\u2588\u2588\u2588\u2588\u2588\u2588\u2588\u2588\u2588\u2588\u2588\u2588\u2588\u2588| 40kB 5.3MB/s eta 0:00:01\n\u001b[?25hRequirement already satisfied: six in /opt/conda/envs/Python36/lib/python3.6/site-packages (from ipython-sql) (1.12.0)\nCollecting prettytable<1 (from ipython-sql)\n  Downloading https://files.pythonhosted.org/packages/ef/30/4b0746848746ed5941f052479e7c23d2b56d174b82f4fd34a25e389831f5/prettytable-0.7.2.tar.bz2\nRequirement already satisfied: ipython-genutils>=0.1.0 in /opt/conda/envs/Python36/lib/python3.6/site-packages (from ipython-sql) (0.2.0)\nRequirement already satisfied: ipython>=1.0 in /opt/conda/envs/Python36/lib/python3.6/site-packages (from ipython-sql) (7.2.0)\nRequirement already satisfied: sqlalchemy>=0.6.7 in /opt/conda/envs/Python36/lib/python3.6/site-packages (from ipython-sql) (1.2.18)\nRequirement already satisfied: setuptools>=18.5 in /opt/conda/envs/Python36/lib/python3.6/site-packages (from ipython>=1.0->ipython-sql) (40.8.0)\nRequirement already satisfied: pickleshare in /opt/conda/envs/Python36/lib/python3.6/site-packages (from ipython>=1.0->ipython-sql) (0.7.5)\nRequirement already satisfied: pygments in /opt/conda/envs/Python36/lib/python3.6/site-packages (from ipython>=1.0->ipython-sql) (2.3.1)\nRequirement already satisfied: decorator in /opt/conda/envs/Python36/lib/python3.6/site-packages (from ipython>=1.0->ipython-sql) (4.3.2)\nRequirement already satisfied: prompt-toolkit<2.1.0,>=2.0.0 in /opt/conda/envs/Python36/lib/python3.6/site-packages (from ipython>=1.0->ipython-sql) (2.0.8)\nRequirement already satisfied: pexpect; sys_platform != \"win32\" in /opt/conda/envs/Python36/lib/python3.6/site-packages (from ipython>=1.0->ipython-sql) (4.6.0)\nRequirement already satisfied: backcall in /opt/conda/envs/Python36/lib/python3.6/site-packages (from ipython>=1.0->ipython-sql) (0.1.0)\nRequirement already satisfied: traitlets>=4.2 in /opt/conda/envs/Python36/lib/python3.6/site-packages (from ipython>=1.0->ipython-sql) (4.3.2)\nRequirement already satisfied: jedi>=0.10 in /opt/conda/envs/Python36/lib/python3.6/site-packages (from ipython>=1.0->ipython-sql) (0.13.2)\nRequirement already satisfied: wcwidth in /opt/conda/envs/Python36/lib/python3.6/site-packages (from prompt-toolkit<2.1.0,>=2.0.0->ipython>=1.0->ipython-sql) (0.1.7)\nRequirement already satisfied: ptyprocess>=0.5 in /opt/conda/envs/Python36/lib/python3.6/site-packages (from pexpect; sys_platform != \"win32\"->ipython>=1.0->ipython-sql) (0.6.0)\nRequirement already satisfied: parso>=0.3.0 in /opt/conda/envs/Python36/lib/python3.6/site-packages (from jedi>=0.10->ipython>=1.0->ipython-sql) (0.3.2)\nBuilding wheels for collected packages: prettytable\n  Building wheel for prettytable (setup.py) ... \u001b[?25ldone\n\u001b[?25h  Stored in directory: /home/dsxuser/.cache/pip/wheels/80/34/1c/3967380d9676d162cb59513bd9dc862d0584e045a162095606\nSuccessfully built prettytable\nInstalling collected packages: sqlparse, prettytable, ipython-sql\n\u001b[33m  WARNING: The script sqlformat is installed in '/home/dsxuser/.local/bin' which is not on PATH.\n  Consider adding this directory to PATH or, if you prefer to suppress this warning, use --no-warn-script-location.\u001b[0m\nSuccessfully installed ipython-sql-0.4.0 prettytable-0.7.2 sqlparse-0.3.1\n",
                    "name": "stdout"
                }
            ]
        },
        {
            "metadata": {},
            "cell_type": "code",
            "source": "# also install the ibm_db_sa driver\n!pip install --user ibm_db\n!pip install --user ibm_db_sa",
            "execution_count": 5,
            "outputs": [
                {
                    "output_type": "stream",
                    "text": "Requirement already satisfied: ibm_db in /opt/conda/envs/Python36/lib/python3.6/site-packages (2.0.9)\nRequirement already satisfied: ibm_db_sa in /opt/conda/envs/Python36/lib/python3.6/site-packages (0.3.4)\nRequirement already satisfied: sqlalchemy>=0.7.3 in /opt/conda/envs/Python36/lib/python3.6/site-packages (from ibm_db_sa) (1.2.18)\nRequirement already satisfied: ibm-db>=2.0.0 in /opt/conda/envs/Python36/lib/python3.6/site-packages (from ibm_db_sa) (2.0.9)\n",
                    "name": "stdout"
                }
            ]
        },
        {
            "metadata": {},
            "cell_type": "code",
            "source": "%load_ext sql",
            "execution_count": 14,
            "outputs": [
                {
                    "output_type": "stream",
                    "text": "The sql extension is already loaded. To reload it, use:\n  %reload_ext sql\n",
                    "name": "stdout"
                }
            ]
        },
        {
            "metadata": {},
            "cell_type": "code",
            "source": "# now we connect to a Dbs database\n%sql ibm_db_sa://ggd09779:3nx-1tg8x298whvk@dashdb-txn-sbox-yp-dal09-14.services.dal.bluemix.net:50000/BLUDB",
            "execution_count": 25,
            "outputs": []
        },
        {
            "metadata": {},
            "cell_type": "code",
            "source": "%%sql  # %% is used instead of one % at the top so that the entire cell be treated as SQL\n\nCREATE TABLE INTERNATIONAL_STUDENT_TEST_SCORES (country VARCHAR(50),first_name VARCHAR(50),last_name VARCHAR(50),test_score INT);\n\nINSERT INTO INTERNATIONAL_STUDENT_TEST_SCORES (country, first_name, last_name, test_score)\n                        VALUES('United States', 'Marshall', 'Bernadot', 54),\n                            ('Ghana', 'Celinda', 'Malkin', 51),\n                            ('Ukraine', 'Guillermo', 'Furze', 53),\n                             ('Greece', 'Aaron', 'Tunnow', 48);\n                ",
            "execution_count": 18,
            "outputs": [
                {
                    "output_type": "stream",
                    "text": " * ibm_db_sa://ggd09779:***@dashdb-txn-sbox-yp-dal09-14.services.dal.bluemix.net:50000/BLUDB\nDone.\n4 rows affected.\n",
                    "name": "stdout"
                },
                {
                    "output_type": "execute_result",
                    "execution_count": 18,
                    "data": {
                        "text/plain": "[]"
                    },
                    "metadata": {}
                }
            ]
        },
        {
            "metadata": {},
            "cell_type": "code",
            "source": "%%sql\nSELECT * FROM INTERNATIONAL_STUDENT_TEST_SCORES;",
            "execution_count": 20,
            "outputs": [
                {
                    "output_type": "stream",
                    "text": " * ibm_db_sa://ggd09779:***@dashdb-txn-sbox-yp-dal09-14.services.dal.bluemix.net:50000/BLUDB\nDone.\n",
                    "name": "stdout"
                },
                {
                    "output_type": "execute_result",
                    "execution_count": 20,
                    "data": {
                        "text/plain": "[('United States', 'Marshall', 'Bernadot', 54),\n ('Ghana', 'Celinda', 'Malkin', 51),\n ('Ukraine', 'Guillermo', 'Furze', 53),\n ('Greece', 'Aaron', 'Tunnow', 48)]",
                        "text/html": "<table>\n    <tr>\n        <th>country</th>\n        <th>first_name</th>\n        <th>last_name</th>\n        <th>test_score</th>\n    </tr>\n    <tr>\n        <td>United States</td>\n        <td>Marshall</td>\n        <td>Bernadot</td>\n        <td>54</td>\n    </tr>\n    <tr>\n        <td>Ghana</td>\n        <td>Celinda</td>\n        <td>Malkin</td>\n        <td>51</td>\n    </tr>\n    <tr>\n        <td>Ukraine</td>\n        <td>Guillermo</td>\n        <td>Furze</td>\n        <td>53</td>\n    </tr>\n    <tr>\n        <td>Greece</td>\n        <td>Aaron</td>\n        <td>Tunnow</td>\n        <td>48</td>\n    </tr>\n</table>"
                    },
                    "metadata": {}
                }
            ]
        },
        {
            "metadata": {},
            "cell_type": "markdown",
            "source": "# Analyzing read world data with python and SQL"
        },
        {
            "metadata": {},
            "cell_type": "code",
            "source": "# load sql extension and establish a connection\n# to store dataset in a table in the database\nimport pandas as pd\nchicago_socioeconomic = pd.read_csv('https://data.cityofchicago.org/resource/jcxq-k9xf.csv')\n# magic SQL PERSIST simplifies the process of table creation and writing the data from a pandas dataframe into the table\n%sql PERSIST chicago_socioeconomic",
            "execution_count": 28,
            "outputs": [
                {
                    "output_type": "stream",
                    "text": " * ibm_db_sa://ggd09779:***@dashdb-txn-sbox-yp-dal09-14.services.dal.bluemix.net:50000/BLUDB\n(ibm_db_dbi.ProgrammingError) ibm_db_dbi::ProgrammingError: Statement Execute Failed: [IBM][CLI Driver][DB2/LINUXX8664] SQL0104N  An unexpected token \"END-OF-STATEMENT\" was found following \"hicago_socioeconomic\".  Expected tokens may include:  \"JOIN <joined_table>\".  SQLSTATE=42601 SQLCODE=-104 [SQL: 'PERSIST chicago_socioeconomic'] (Background on this error at: http://sqlalche.me/e/f405)\n",
                    "name": "stdout"
                }
            ]
        },
        {
            "metadata": {},
            "cell_type": "code",
            "source": "# to verify that the table creation was successful\n%sql SELECT * FROM data;",
            "execution_count": 24,
            "outputs": [
                {
                    "output_type": "stream",
                    "text": " * ibm_db_sa://ggd09779:***@dashdb-txn-sbox-yp-dal09-14.services.dal.bluemix.net:50000/BLUDB\n(ibm_db_dbi.ProgrammingError) ibm_db_dbi::ProgrammingError: SQLNumResultCols failed: [IBM][CLI Driver][DB2/LINUXX8664] SQL0204N  \"GGD09779.DATA\" is an undefined name.  SQLSTATE=42704 SQLCODE=-204 [SQL: 'SELECT * FROM data;'] (Background on this error at: http://sqlalche.me/e/f405)\n",
                    "name": "stdout"
                }
            ]
        },
        {
            "metadata": {},
            "cell_type": "code",
            "source": "chicago_socioeconomic.head()",
            "execution_count": 30,
            "outputs": [
                {
                    "output_type": "execute_result",
                    "execution_count": 30,
                    "data": {
                        "text/plain": "    ca community_area_name  percent_of_housing_crowded  \\\n0  1.0         Rogers Park                         7.7   \n1  2.0          West Ridge                         7.8   \n2  3.0              Uptown                         3.8   \n3  4.0      Lincoln Square                         3.4   \n4  5.0        North Center                         0.3   \n\n   percent_households_below_poverty  percent_aged_16_unemployed  \\\n0                              23.6                         8.7   \n1                              17.2                         8.8   \n2                              24.0                         8.9   \n3                              10.9                         8.2   \n4                               7.5                         5.2   \n\n   percent_aged_25_without_high_school_diploma  \\\n0                                         18.2   \n1                                         20.8   \n2                                         11.8   \n3                                         13.4   \n4                                          4.5   \n\n   percent_aged_under_18_or_over_64  per_capita_income_  hardship_index  \n0                              27.5               23939            39.0  \n1                              38.5               23040            46.0  \n2                              22.2               35787            20.0  \n3                              25.5               37524            17.0  \n4                              26.2               57123             6.0  ",
                        "text/html": "<div>\n<style scoped>\n    .dataframe tbody tr th:only-of-type {\n        vertical-align: middle;\n    }\n\n    .dataframe tbody tr th {\n        vertical-align: top;\n    }\n\n    .dataframe thead th {\n        text-align: right;\n    }\n</style>\n<table border=\"1\" class=\"dataframe\">\n  <thead>\n    <tr style=\"text-align: right;\">\n      <th></th>\n      <th>ca</th>\n      <th>community_area_name</th>\n      <th>percent_of_housing_crowded</th>\n      <th>percent_households_below_poverty</th>\n      <th>percent_aged_16_unemployed</th>\n      <th>percent_aged_25_without_high_school_diploma</th>\n      <th>percent_aged_under_18_or_over_64</th>\n      <th>per_capita_income_</th>\n      <th>hardship_index</th>\n    </tr>\n  </thead>\n  <tbody>\n    <tr>\n      <th>0</th>\n      <td>1.0</td>\n      <td>Rogers Park</td>\n      <td>7.7</td>\n      <td>23.6</td>\n      <td>8.7</td>\n      <td>18.2</td>\n      <td>27.5</td>\n      <td>23939</td>\n      <td>39.0</td>\n    </tr>\n    <tr>\n      <th>1</th>\n      <td>2.0</td>\n      <td>West Ridge</td>\n      <td>7.8</td>\n      <td>17.2</td>\n      <td>8.8</td>\n      <td>20.8</td>\n      <td>38.5</td>\n      <td>23040</td>\n      <td>46.0</td>\n    </tr>\n    <tr>\n      <th>2</th>\n      <td>3.0</td>\n      <td>Uptown</td>\n      <td>3.8</td>\n      <td>24.0</td>\n      <td>8.9</td>\n      <td>11.8</td>\n      <td>22.2</td>\n      <td>35787</td>\n      <td>20.0</td>\n    </tr>\n    <tr>\n      <th>3</th>\n      <td>4.0</td>\n      <td>Lincoln Square</td>\n      <td>3.4</td>\n      <td>10.9</td>\n      <td>8.2</td>\n      <td>13.4</td>\n      <td>25.5</td>\n      <td>37524</td>\n      <td>17.0</td>\n    </tr>\n    <tr>\n      <th>4</th>\n      <td>5.0</td>\n      <td>North Center</td>\n      <td>0.3</td>\n      <td>7.5</td>\n      <td>5.2</td>\n      <td>4.5</td>\n      <td>26.2</td>\n      <td>57123</td>\n      <td>6.0</td>\n    </tr>\n  </tbody>\n</table>\n</div>"
                    },
                    "metadata": {}
                }
            ]
        },
        {
            "metadata": {},
            "cell_type": "markdown",
            "source": "Problem 1. How many rows are in the dataset?"
        },
        {
            "metadata": {},
            "cell_type": "code",
            "source": "\ndf = chicago_socioeconomic\nlen(df)",
            "execution_count": 35,
            "outputs": [
                {
                    "output_type": "execute_result",
                    "execution_count": 35,
                    "data": {
                        "text/plain": "78"
                    },
                    "metadata": {}
                }
            ]
        },
        {
            "metadata": {},
            "cell_type": "code",
            "source": "# or use sql\n%sql SELECT COUNT(*) FROM chicago_socioeconomic",
            "execution_count": 34,
            "outputs": [
                {
                    "output_type": "stream",
                    "text": " * ibm_db_sa://ggd09779:***@dashdb-txn-sbox-yp-dal09-14.services.dal.bluemix.net:50000/BLUDB\n(ibm_db_dbi.ProgrammingError) ibm_db_dbi::ProgrammingError: SQLNumResultCols failed: [IBM][CLI Driver][DB2/LINUXX8664] SQL0204N  \"GGD09779.CHICAGO_SOCIOECONOMIC\" is an undefined name.  SQLSTATE=42704 SQLCODE=-204 [SQL: 'SELECT COUNT(*) FROM chicago_socioeconomic'] (Background on this error at: http://sqlalche.me/e/f405)\n",
                    "name": "stdout"
                }
            ]
        },
        {
            "metadata": {},
            "cell_type": "markdown",
            "source": "Problem 2. How many areas in Chicago have a hardship index greater than 50.0?"
        },
        {
            "metadata": {},
            "cell_type": "code",
            "source": "len(df[df['hardship_index'] > 50.0])\n# in sql SELECT hardship_index FROM chicago_socioeconomic WHERE hardship_index > 50",
            "execution_count": 36,
            "outputs": [
                {
                    "output_type": "execute_result",
                    "execution_count": 36,
                    "data": {
                        "text/plain": "38"
                    },
                    "metadata": {}
                }
            ]
        },
        {
            "metadata": {},
            "cell_type": "markdown",
            "source": "Problem 3. What is the maximum value of hardship index in this dataset?"
        },
        {
            "metadata": {},
            "cell_type": "code",
            "source": "df['hardship_index'].max()\n#in sql SELECT MAX(hardship_index) FROM chicago_socioeconomic",
            "execution_count": 38,
            "outputs": [
                {
                    "output_type": "execute_result",
                    "execution_count": 38,
                    "data": {
                        "text/plain": "98.0"
                    },
                    "metadata": {}
                }
            ]
        },
        {
            "metadata": {},
            "cell_type": "code",
            "source": "# to find the index of the maximum value\ndf['hardship_index'].idxmax()",
            "execution_count": 39,
            "outputs": [
                {
                    "output_type": "execute_result",
                    "execution_count": 39,
                    "data": {
                        "text/plain": "53"
                    },
                    "metadata": {}
                }
            ]
        },
        {
            "metadata": {},
            "cell_type": "markdown",
            "source": "Problem 4. Which community area has the highest hardship index?"
        },
        {
            "metadata": {},
            "cell_type": "code",
            "source": "# in sql SELECT community_area_name FROM chicago_socioeconomic WHERE hardship_index = (SELECT MAX(hardship_index)FROM chicago_socioeconomic)\ndf.at[df['hardship_index'].idxmax(), 'community_area_name']",
            "execution_count": 41,
            "outputs": [
                {
                    "output_type": "execute_result",
                    "execution_count": 41,
                    "data": {
                        "text/plain": "'Riverdale'"
                    },
                    "metadata": {}
                }
            ]
        },
        {
            "metadata": {},
            "cell_type": "markdown",
            "source": "Problem 5. Which Chicago community areas have per-capita incomes greater than $60,000?"
        },
        {
            "metadata": {},
            "cell_type": "code",
            "source": "# in sql SELECT community_area_name FROM chicago_socioeconomic WHERE per_capita_income > 60,000\ndf1 = df[df['per_capita_income_']>60000]\ndf1['community_area_name']",
            "execution_count": 43,
            "outputs": [
                {
                    "output_type": "execute_result",
                    "execution_count": 43,
                    "data": {
                        "text/plain": "5           Lake View\n6        Lincoln Park\n7     Near North Side\n31               Loop\nName: community_area_name, dtype: object"
                    },
                    "metadata": {}
                }
            ]
        },
        {
            "metadata": {},
            "cell_type": "markdown",
            "source": "Porblem 6. Create a scatter plot using the variable per_capita_income and hardship_index."
        },
        {
            "metadata": {},
            "cell_type": "code",
            "source": "import matplotlib.pyplot as plt\n%matplotlib inline\nimport seaborn as sns\n\nplot= sns.jointplot(x = 'hardship_index', y ='per_capita_income_', data = df)\nplt.show()",
            "execution_count": 47,
            "outputs": [
                {
                    "output_type": "display_data",
                    "data": {
                        "text/plain": "<Figure size 432x432 with 3 Axes>",
                        "image/png": "[encoded data removed]"
                    },
                    "metadata": {
                        "needs_background": "light"
                    }
                }
            ]
        },
        {
            "metadata": {},
            "cell_type": "markdown",
            "source": "Problem 7. Create a box plot for per_capita_income_"
        },
        {
            "metadata": {},
            "cell_type": "code",
            "source": "plot = sns.set_style('whitegrid')\nax = sns.boxplot(x=df['per_capita_income_'])\nplot.show()",
            "execution_count": 49,
            "outputs": [
                {
                    "output_type": "error",
                    "ename": "AttributeError",
                    "evalue": "'NoneType' object has no attribute 'show'",
                    "traceback": [
                        "\u001b[0;31m---------------------------------------------------------------------------\u001b[0m",
                        "\u001b[0;31mAttributeError\u001b[0m                            Traceback (most recent call last)",
                        "\u001b[0;32m<ipython-input-49-26d4b16655b4>\u001b[0m in \u001b[0;36m<module>\u001b[0;34m\u001b[0m\n\u001b[1;32m      1\u001b[0m \u001b[0mplot\u001b[0m \u001b[0;34m=\u001b[0m \u001b[0msns\u001b[0m\u001b[0;34m.\u001b[0m\u001b[0mset_style\u001b[0m\u001b[0;34m(\u001b[0m\u001b[0;34m'whitegrid'\u001b[0m\u001b[0;34m)\u001b[0m\u001b[0;34m\u001b[0m\u001b[0;34m\u001b[0m\u001b[0m\n\u001b[1;32m      2\u001b[0m \u001b[0max\u001b[0m \u001b[0;34m=\u001b[0m \u001b[0msns\u001b[0m\u001b[0;34m.\u001b[0m\u001b[0mboxplot\u001b[0m\u001b[0;34m(\u001b[0m\u001b[0mx\u001b[0m\u001b[0;34m=\u001b[0m\u001b[0mdf\u001b[0m\u001b[0;34m[\u001b[0m\u001b[0;34m'per_capita_income_'\u001b[0m\u001b[0;34m]\u001b[0m\u001b[0;34m)\u001b[0m\u001b[0;34m\u001b[0m\u001b[0;34m\u001b[0m\u001b[0m\n\u001b[0;32m----> 3\u001b[0;31m \u001b[0mplot\u001b[0m\u001b[0;34m.\u001b[0m\u001b[0mshow\u001b[0m\u001b[0;34m(\u001b[0m\u001b[0;34m)\u001b[0m\u001b[0;34m\u001b[0m\u001b[0;34m\u001b[0m\u001b[0m\n\u001b[0m",
                        "\u001b[0;31mAttributeError\u001b[0m: 'NoneType' object has no attribute 'show'"
                    ]
                },
                {
                    "output_type": "display_data",
                    "data": {
                        "text/plain": "<Figure size 432x288 with 1 Axes>",
                        "image/png": "[encoded data removed]"
                    },
                    "metadata": {}
                }
            ]
        },
        {
            "metadata": {},
            "cell_type": "code",
            "source": "",
            "execution_count": null,
            "outputs": []
        }
    ],
    "metadata": {
        "kernelspec": {
            "name": "python3",
            "display_name": "Python 3.6",
            "language": "python"
        },
        "language_info": {
            "name": "python",
            "version": "3.6.9",
            "mimetype": "text/x-python",
            "codemirror_mode": {
                "name": "ipython",
                "version": 3
            },
            "pygments_lexer": "ipython3",
            "nbconvert_exporter": "python",
            "file_extension": ".py"
        }
    },
    "nbformat": 4,
    "nbformat_minor": 1
}